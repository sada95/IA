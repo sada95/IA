{
  "nbformat": 4,
  "nbformat_minor": 0,
  "metadata": {
    "colab": {
      "name": "Projet_sada_ChatBot.ipynb",
      "provenance": [],
      "authorship_tag": "ABX9TyPSNozQzD1zSnXiT5SjXLb8",
      "include_colab_link": true
    },
    "kernelspec": {
      "name": "python3",
      "display_name": "Python 3"
    }
  },
  "cells": [
    {
      "cell_type": "markdown",
      "metadata": {
        "id": "view-in-github",
        "colab_type": "text"
      },
      "source": [
        "<a href=\"https://colab.research.google.com/github/sada95/IA/blob/master/Projet_sada_ChatBot.ipynb\" target=\"_parent\"><img src=\"https://colab.research.google.com/assets/colab-badge.svg\" alt=\"Open In Colab\"/></a>"
      ]
    },
    {
      "cell_type": "code",
      "metadata": {
        "id": "E0uj2UZCVIfs",
        "colab_type": "code",
        "outputId": "4a62c255-dd92-40d7-eb1d-f188e2ca42b3",
        "colab": {
          "base_uri": "https://localhost:8080/",
          "height": 51
        }
      },
      "source": [
        "pip install nltk"
      ],
      "execution_count": 0,
      "outputs": [
        {
          "output_type": "stream",
          "text": [
            "Requirement already satisfied: nltk in /usr/local/lib/python3.6/dist-packages (3.2.5)\n",
            "Requirement already satisfied: six in /usr/local/lib/python3.6/dist-packages (from nltk) (1.12.0)\n"
          ],
          "name": "stdout"
        }
      ]
    },
    {
      "cell_type": "code",
      "metadata": {
        "id": "cseyyyIWVrJg",
        "colab_type": "code",
        "colab": {}
      },
      "source": [
        "import nltk \n",
        "import io\n",
        "import numpy as np \n",
        "import random \n",
        "import string\n",
        "import warnings\n",
        "warnings.filterwarnings('ignore')"
      ],
      "execution_count": 0,
      "outputs": []
    },
    {
      "cell_type": "code",
      "metadata": {
        "id": "BzAFmR2fnj0L",
        "colab_type": "code",
        "outputId": "fd4fa65c-85a0-4c50-8a9d-889c75fe8aa5",
        "colab": {
          "base_uri": "https://localhost:8080/",
          "height": 122
        }
      },
      "source": [
        "# Connecting Google Drive Data Files to Google Colab Notebook.\n",
        "# Load the Google Drive helper and mount the drive.\n",
        "from google.colab import drive\n",
        "\n",
        "# This will prompt for authorization. Click the link and provide the required information.\n",
        "\n",
        "drive.mount('/content/drive')"
      ],
      "execution_count": 0,
      "outputs": [
        {
          "output_type": "stream",
          "text": [
            "Go to this URL in a browser: https://accounts.google.com/o/oauth2/auth?client_id=947318989803-6bn6qk8qdgf4n4g3pfee6491hc0brc4i.apps.googleusercontent.com&redirect_uri=urn%3aietf%3awg%3aoauth%3a2.0%3aoob&response_type=code&scope=email%20https%3a%2f%2fwww.googleapis.com%2fauth%2fdocs.test%20https%3a%2f%2fwww.googleapis.com%2fauth%2fdrive%20https%3a%2f%2fwww.googleapis.com%2fauth%2fdrive.photos.readonly%20https%3a%2f%2fwww.googleapis.com%2fauth%2fpeopleapi.readonly\n",
            "\n",
            "Enter your authorization code:\n",
            "··········\n",
            "Mounted at /content/drive\n"
          ],
          "name": "stdout"
        }
      ]
    },
    {
      "cell_type": "code",
      "metadata": {
        "id": "facdfcHyohMq",
        "colab_type": "code",
        "outputId": "98e998fd-76f8-4b73-bc74-aa3d7495eba8",
        "colab": {
          "base_uri": "https://localhost:8080/",
          "height": 646
        }
      },
      "source": [
        "# List the content of YOUR google drive\n",
        "!ls \"/content/drive/My Drive\""
      ],
      "execution_count": 0,
      "outputs": [
        {
          "output_type": "stream",
          "text": [
            " 0264-formation-reseaux-mobiles-2g-3g.pdf\n",
            " 0267-formation-gsm-3g-umts-4g-gprs.pdf\n",
            " 1.xesc\n",
            " 2.xesc\n",
            " 3CXPhoneSystem16.exe\n",
            " 3.xesc\n",
            "'Ces idées qui collent.gslides'\n",
            " code.zip\n",
            "'Colab Notebooks'\n",
            "'Copie de Product Backlog Template.gsheet'\n",
            "'cours master'\n",
            " CV3.pdf\n",
            " demo\n",
            " demos2.xesc\n",
            "'Document sans titre (1).gdoc'\n",
            "'Document sans titre (2).gdoc'\n",
            "'Document sans titre.gdoc'\n",
            " etat_de_votre_dossier.pdf\n",
            "'~$gorithme de Tri Rapide.docx'\n",
            "'How To Need For Speed Payback PC Gamepad Controller_Need For Speed Pc Gamepad İle Oynama - YouTube.mkv'\n",
            " IA\n",
            "'le document 1.pdf'\n",
            "'le document.pdf'\n",
            "'MEILLEURE FORMATION Linux Expert - Réussir la certification LPIC-3 (examen 300)'\n",
            " minitool-partrecovery.exe\n",
            " Présentation_sada.mp4\n",
            "'Présentation sans titre.gslides'\n",
            " Projet.docx\n",
            " python\n",
            " rufus-1.4.12.exe\n",
            "'Semence Distribution.gslides'\n",
            "'semestre 2'\n",
            " v1.xesc\n",
            " v2.xesc\n",
            " Video1.xesc\n",
            " X-Lite_Win32_4.7.1_74247.exe\n",
            " zoiper_VZXJBp_2071300574.exe\n"
          ],
          "name": "stdout"
        }
      ]
    },
    {
      "cell_type": "code",
      "metadata": {
        "id": "cFEiDhe6lYrx",
        "colab_type": "code",
        "outputId": "1dc1930d-4500-4201-94bf-7727880034f2",
        "colab": {
          "base_uri": "https://localhost:8080/",
          "height": 85
        }
      },
      "source": [
        "f=open('/content/drive/My Drive/demo/chatbot.txt','r',errors = 'ignore')\n",
        "raw=f.read()\n",
        "raw=raw.lower()# converts to lowercase\n",
        "nltk.download('punkt') # first-time use only\n",
        "nltk.download('wordnet') # first-time use only\n",
        "sent_tokens = nltk.sent_tokenize(raw)# converts to list of sentences \n",
        "word_tokens = nltk.word_tokenize(raw)# converts to list of words"
      ],
      "execution_count": 0,
      "outputs": [
        {
          "output_type": "stream",
          "text": [
            "[nltk_data] Downloading package punkt to /root/nltk_data...\n",
            "[nltk_data]   Unzipping tokenizers/punkt.zip.\n",
            "[nltk_data] Downloading package wordnet to /root/nltk_data...\n",
            "[nltk_data]   Unzipping corpora/wordnet.zip.\n"
          ],
          "name": "stdout"
        }
      ]
    },
    {
      "cell_type": "code",
      "metadata": {
        "id": "jtfwvFMwqMqQ",
        "colab_type": "code",
        "outputId": "22c1ebce-289d-4102-c721-4e76c07143fb",
        "colab": {
          "base_uri": "https://localhost:8080/",
          "height": 71
        }
      },
      "source": [
        "sent_tokens [: 2]"
      ],
      "execution_count": 0,
      "outputs": [
        {
          "output_type": "execute_result",
          "data": {
            "text/plain": [
              "['\\npage semi-protected\\ntennis\\nfrom wikipedia, the free encyclopedia\\njump to navigationjump to search\\nfor other uses, see tennis (disambiguation).',\n",
              " 'tennis\\nroger federer 2012 indian wells.jpg\\nroger federer hitting a backhanded shot in 2012\\nhighest governing body\\tinternational tennis federation\\nfirst played\\tbetween 1859 and 1865, birmingham, england\\ncharacteristics\\ncontact\\tno\\nteam members\\tsingles or doubles\\nmixed gender\\tyes, separate tours & mixed doubles\\ntype\\toutdoor or indoor\\nequipment\\tball, racket, net\\nvenue\\ttennis court\\nglossary\\tglossary of tennis\\npresence\\ncountry or region\\tworldwide\\nolympic\\tpart of summer olympic programme from 1896 to 1924\\ndemonstration sport in the 1968 and 1984 summer olympics\\npart of summer olympic programme since 1988\\nparalympic\\tpart of summer paralympic programme since 1992\\ntennis is a racket sport that can be played individually against a single opponent (singles) or between two teams of two players each (doubles).']"
            ]
          },
          "metadata": {
            "tags": []
          },
          "execution_count": 29
        }
      ]
    },
    {
      "cell_type": "code",
      "metadata": {
        "id": "0Z_7rjfhqM56",
        "colab_type": "code",
        "outputId": "f42e1d59-2f8c-4a70-eb3f-064801da88d7",
        "colab": {
          "base_uri": "https://localhost:8080/",
          "height": 34
        }
      },
      "source": [
        "word_tokens [: 2]"
      ],
      "execution_count": 0,
      "outputs": [
        {
          "output_type": "execute_result",
          "data": {
            "text/plain": [
              "['page', 'semi-protected']"
            ]
          },
          "metadata": {
            "tags": []
          },
          "execution_count": 30
        }
      ]
    },
    {
      "cell_type": "code",
      "metadata": {
        "id": "xpVkxsAyqicd",
        "colab_type": "code",
        "colab": {}
      },
      "source": [
        "lemmer = nltk.stem.WordNetLemmatizer()\n",
        "#WordNet is a semantically-oriented dictionary of English included in NLTK.\n",
        "def LemTokens(tokens):\n",
        "    return [lemmer.lemmatize(token) for token in tokens]\n",
        "remove_punct_dict = dict((ord(punct), None) for punct in string.punctuation)\n",
        "def LemNormalize(text):\n",
        "    return LemTokens(nltk.word_tokenize(text.lower().translate(remove_punct_dict)))"
      ],
      "execution_count": 0,
      "outputs": []
    },
    {
      "cell_type": "code",
      "metadata": {
        "id": "74-xYt_ZqinW",
        "colab_type": "code",
        "colab": {}
      },
      "source": [
        "GREETING_INPUTS = (\"hello\", \"hi\", \"greetings\", \"sup\", \"what's up\",\"hey\",)\n",
        "GREETING_RESPONSES = [\"hi\", \"hey\", \"*nods*\", \"hi there\", \"hello\", \"I am glad! You are talking to me\"]\n",
        "def greeting(sentence):\n",
        " \n",
        "    for word in sentence.split():\n",
        "        if word.lower() in GREETING_INPUTS:\n",
        "            return random.choice(GREETING_RESPONSES)"
      ],
      "execution_count": 0,
      "outputs": []
    },
    {
      "cell_type": "code",
      "metadata": {
        "id": "TVPXa6-aqixZ",
        "colab_type": "code",
        "colab": {}
      },
      "source": [
        "from sklearn.feature_extraction.text import TfidfVectorizer"
      ],
      "execution_count": 0,
      "outputs": []
    },
    {
      "cell_type": "code",
      "metadata": {
        "id": "sHULw7_6tA3W",
        "colab_type": "code",
        "colab": {}
      },
      "source": [
        "from sklearn.metrics.pairwise import cosine_similarity"
      ],
      "execution_count": 0,
      "outputs": []
    },
    {
      "cell_type": "code",
      "metadata": {
        "id": "Q08rp4YYtA_b",
        "colab_type": "code",
        "colab": {}
      },
      "source": [
        "def response(user_response):\n",
        "    robo_response=''\n",
        "    sent_tokens.append(user_response)\n",
        "    TfidfVec = TfidfVectorizer(tokenizer=LemNormalize, stop_words='english')\n",
        "    tfidf = TfidfVec.fit_transform(sent_tokens)\n",
        "    vals = cosine_similarity(tfidf[-1], tfidf)\n",
        "    idx=vals.argsort()[0][-2]\n",
        "    flat = vals.flatten()\n",
        "    flat.sort()\n",
        "    req_tfidf = flat[-2]\n",
        "    if(req_tfidf==0):\n",
        "        robo_response=robo_response+\"I am sorry! I don't understand you\"\n",
        "        return robo_response\n",
        "    else:\n",
        "        robo_response = robo_response+sent_tokens[idx]\n",
        "        return robo_response"
      ],
      "execution_count": 0,
      "outputs": []
    },
    {
      "cell_type": "code",
      "metadata": {
        "id": "hUrXRC25tBH8",
        "colab_type": "code",
        "outputId": "d9d92732-820f-42c1-b045-ed1bfd4f7221",
        "colab": {
          "base_uri": "https://localhost:8080/",
          "height": 1000
        }
      },
      "source": [
        "flag=True\n",
        "print(\"ChatBot: My name is ChatBot. I will answer your queries about Chatbots. If you want to exit, type Bye!\")\n",
        "while(flag==True):\n",
        "    user_response = input()\n",
        "    user_response=user_response.lower()\n",
        "    if(user_response!='bye'):\n",
        "        if(user_response=='thanks' or user_response=='thank you' ):\n",
        "            flag=False\n",
        "            print(\"ChatBot: You are welcome..\")\n",
        "        else:\n",
        "            if(greeting(user_response)!=None):\n",
        "                print(\"ChatBot: \"+greeting(user_response))\n",
        "            else:\n",
        "                print(\"ChatBot: \",end=\"\")\n",
        "                print(response(user_response))\n",
        "                sent_tokens.remove(user_response)\n",
        "    else:\n",
        "        flag=False\n",
        "        print(\"ChatBot: Bye! take care..\")"
      ],
      "execution_count": 0,
      "outputs": [
        {
          "output_type": "stream",
          "text": [
            "ChatBot: My name is ChatBot. I will answer your queries about Chatbots. If you want to exit, type Bye!\n",
            "hello\n",
            "ChatBot: *nods*\n",
            "hi\n",
            "ChatBot: hi\n",
            "in which language you written?\n",
            "ChatBot: we have come a long way (mcgraw-hill, 1998) isbn 0-07-034625-9\n",
            "whitman, malcolm d. tennis – origins and mysteries (dover publications, 2004) isbn 0-486-43357-9\n",
            "external links\n",
            "tennis\n",
            "at wikipedia's sister projects\n",
            "definitions from wiktionary\n",
            "media from wikimedia commons\n",
            "news from wikinews\n",
            "quotations from wikiquote\n",
            "texts from wikisource\n",
            "textbooks from wikibooks\n",
            "resources from wikiversity\n",
            "international organizations\n",
            "international tennis federation (itf)\n",
            "association of tennis players (atp) – men's professional tennis organization\n",
            "women's tennis association (wta) – women's professional tennis organization\n",
            "team competitions\n",
            "davis cup\n",
            "fed cup\n",
            "other\n",
            "tennis at curlie\n",
            "international tennis hall of fame\n",
            "tennis grand slam tournaments history\n",
            "\n",
            "vte\n",
            "tennis\n",
            "vte\n",
            "summer olympic sports\n",
            "vte\n",
            "tennis records and statistics\n",
            "authority control edit this at wikidata\t\n",
            "bnf: cb11933653f (data)gnd: 4059462-2lccn: sh85133890nara: 10645054ndl: 00572828\n",
            "categories: ball gamessummer olympic sportsracquet sportssports originating in englandtennis\n",
            "navigation menu\n",
            "not logged intalkcontributionscreate accountlog in\n",
            "articletalk\n",
            "readview sourceview historysearch\n",
            "search wikipedia\n",
            "main page\n",
            "contents\n",
            "current events\n",
            "random article\n",
            "about wikipedia\n",
            "contact us\n",
            "donate\n",
            "contribute\n",
            "help\n",
            "community portal\n",
            "recent changes\n",
            "upload file\n",
            "tools\n",
            "what links here\n",
            "related changes\n",
            "special pages\n",
            "permanent link\n",
            "page information\n",
            "wikidata item\n",
            "cite this page\n",
            "\n",
            "languages\n",
            "bosanski\n",
            "ελληνικά\n",
            "español\n",
            "français\n",
            "हिन्दी\n",
            "magyar\n",
            "українська\n",
            "اردو\n",
            "中文\n",
            "133 more\n",
            "edit links\n",
            "in other projects\n",
            "wikimedia commons\n",
            "wikibooks\n",
            "wikinews\n",
            "wikiquote\n",
            "print/export\n",
            "download as pdf\n",
            "printable version\n",
            "this page was last edited on 14 june 2020, at 07:19 (utc).\n",
            "Bye\n",
            "ChatBot: Bye! take care..\n"
          ],
          "name": "stdout"
        }
      ]
    }
  ]
}