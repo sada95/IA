{
  "nbformat": 4,
  "nbformat_minor": 0,
  "metadata": {
    "colab": {
      "name": "text_classification.ipynb",
      "provenance": [],
      "authorship_tag": "ABX9TyOXZES9frPH4WTBnZiKLIvB",
      "include_colab_link": true
    },
    "kernelspec": {
      "name": "python3",
      "display_name": "Python 3"
    },
    "accelerator": "GPU"
  },
  "cells": [
    {
      "cell_type": "markdown",
      "metadata": {
        "id": "view-in-github",
        "colab_type": "text"
      },
      "source": [
        "<a href=\"https://colab.research.google.com/github/sada95/IA/blob/master/text_classification.ipynb\" target=\"_parent\"><img src=\"https://colab.research.google.com/assets/colab-badge.svg\" alt=\"Open In Colab\"/></a>"
      ]
    },
    {
      "cell_type": "code",
      "metadata": {
        "id": "CwmfHc5bEOb3"
      },
      "source": [
        "import matplotlib.pyplot as plt\r\n",
        "import os\r\n",
        "import re\r\n",
        "import shutil\r\n",
        "import string\r\n",
        "import tensorflow as tf\r\n",
        "\r\n",
        "from tensorflow.keras import layers\r\n",
        "from tensorflow.keras import losses\r\n",
        "from tensorflow.keras import preprocessing\r\n",
        "from tensorflow.keras.layers.experimental.preprocessing import TextVectorization"
      ],
      "execution_count": 1,
      "outputs": []
    },
    {
      "cell_type": "code",
      "metadata": {
        "colab": {
          "base_uri": "https://localhost:8080/"
        },
        "id": "dmFONrq8Eof9",
        "outputId": "5115fa82-28d6-46f4-ad37-1eab52a3a058"
      },
      "source": [
        "print(tf.__version__)"
      ],
      "execution_count": 2,
      "outputs": [
        {
          "output_type": "stream",
          "text": [
            "2.4.1\n"
          ],
          "name": "stdout"
        }
      ]
    },
    {
      "cell_type": "markdown",
      "metadata": {
        "id": "mJ8tS1ZqE7IW"
      },
      "source": [
        "Analyse des sentiments\r\n",
        "\r\n",
        "Ce bloc-notes forme un modèle d'analyse des sentiments pour classer les critiques de films comme positives ou négatives , en fonction du texte de la critique. Il s'agit d'un exemple de classification binaire - ou à deux classes -, un type de problème d'apprentissage automatique important et largement applicable.\r\n",
        "\r\n",
        "Vous utiliserez le jeu de données Large Movie Review qui contient le texte de 50 000 critiques de films de la base de données de films Internet . Celles-ci sont divisées en 25 000 évaluations pour la formation et 25 000 évaluations pour les tests. Les ensembles de formation et de test sont équilibrés , ce qui signifie qu'ils contiennent un nombre égal d'avis positifs et négatifs.\r\n",
        "\r\n",
        "\r\n",
        "Téléchargez et explorez le jeu de données IMDB\r\n",
        "\r\n",
        "Téléchargeons et extrayons l'ensemble de données, puis explorons la structure des répertoires."
      ]
    },
    {
      "cell_type": "code",
      "metadata": {
        "colab": {
          "base_uri": "https://localhost:8080/"
        },
        "id": "hN2M2mMQFAlt",
        "outputId": "a3140a7e-2db5-44f9-9e30-9c9804e719db"
      },
      "source": [
        "url = \"https://ai.stanford.edu/~amaas/data/sentiment/aclImdb_v1.tar.gz\"\r\n",
        "\r\n",
        "dataset = tf.keras.utils.get_file(\"aclImdb_v1.tar.gz\", url,\r\n",
        "                                    untar=True, cache_dir='.',\r\n",
        "                                    cache_subdir='')\r\n",
        "\r\n",
        "dataset_dir = os.path.join(os.path.dirname(dataset), 'aclImdb')"
      ],
      "execution_count": 3,
      "outputs": [
        {
          "output_type": "stream",
          "text": [
            "Downloading data from https://ai.stanford.edu/~amaas/data/sentiment/aclImdb_v1.tar.gz\n",
            "84131840/84125825 [==============================] - 2s 0us/step\n"
          ],
          "name": "stdout"
        }
      ]
    },
    {
      "cell_type": "code",
      "metadata": {
        "colab": {
          "base_uri": "https://localhost:8080/"
        },
        "id": "Hf98rGoKFsL1",
        "outputId": "c61b74e8-5e4f-4676-e92e-306f9986dd14"
      },
      "source": [
        "os.listdir(dataset_dir)"
      ],
      "execution_count": 4,
      "outputs": [
        {
          "output_type": "execute_result",
          "data": {
            "text/plain": [
              "['README', 'imdbEr.txt', 'train', 'test', 'imdb.vocab']"
            ]
          },
          "metadata": {
            "tags": []
          },
          "execution_count": 4
        }
      ]
    },
    {
      "cell_type": "code",
      "metadata": {
        "colab": {
          "base_uri": "https://localhost:8080/"
        },
        "id": "vLw990q3F-bF",
        "outputId": "d7705059-0706-492a-825d-f6425e3cb893"
      },
      "source": [
        "train_dir = os.path.join(dataset_dir, 'train')\r\n",
        "os.listdir(train_dir)"
      ],
      "execution_count": 5,
      "outputs": [
        {
          "output_type": "execute_result",
          "data": {
            "text/plain": [
              "['labeledBow.feat',\n",
              " 'urls_neg.txt',\n",
              " 'neg',\n",
              " 'urls_unsup.txt',\n",
              " 'urls_pos.txt',\n",
              " 'pos',\n",
              " 'unsupBow.feat',\n",
              " 'unsup']"
            ]
          },
          "metadata": {
            "tags": []
          },
          "execution_count": 5
        }
      ]
    },
    {
      "cell_type": "markdown",
      "metadata": {
        "id": "1AdOxSBHGq8x"
      },
      "source": [
        "Les **aclImdb/train/pos** et **aclImdb/train/neg** contiennent de nombreux fichiers texte, dont chacun est une seule critique de film. Jetons un coup d'œil à l'un d'entre eux."
      ]
    },
    {
      "cell_type": "code",
      "metadata": {
        "colab": {
          "base_uri": "https://localhost:8080/"
        },
        "id": "NdCnH0WCGFQx",
        "outputId": "87dfe407-f69e-44f7-add2-13a6f99d84e2"
      },
      "source": [
        "sample_file = os.path.join(train_dir, 'pos/1181_9.txt')\r\n",
        "with open(sample_file) as f:\r\n",
        "  print(f.read())"
      ],
      "execution_count": 6,
      "outputs": [
        {
          "output_type": "stream",
          "text": [
            "Rachel Griffiths writes and directs this award winning short film. A heartwarming story about coping with grief and cherishing the memory of those we've loved and lost. Although, only 15 minutes long, Griffiths manages to capture so much emotion and truth onto film in the short space of time. Bud Tingwell gives a touching performance as Will, a widower struggling to cope with his wife's death. Will is confronted by the harsh reality of loneliness and helplessness as he proceeds to take care of Ruth's pet cow, Tulip. The film displays the grief and responsibility one feels for those they have loved and lost. Good cinematography, great direction, and superbly acted. It will bring tears to all those who have lost a loved one, and survived.\n"
          ],
          "name": "stdout"
        }
      ]
    },
    {
      "cell_type": "markdown",
      "metadata": {
        "id": "kTtoYtP5G0RR"
      },
      "source": [
        "**Charger le jeu de données**\r\n",
        "\r\n",
        "Ensuite, vous allez charger les données du disque et les préparer dans un format adapté à la formation. Pour ce faire, vous utiliserez l'utilitaire utile text_dataset_from_directory , qui attend une structure de répertoires comme suit."
      ]
    },
    {
      "cell_type": "code",
      "metadata": {
        "id": "3_UI3HxnQ8vc"
      },
      "source": [
        "main_directory/\r\n",
        "...class_a/\r\n",
        "......a_text_1.txt\r\n",
        "......a_text_2.txt\r\n",
        "...class_b/\r\n",
        "......b_text_1.txt\r\n",
        "......b_text_2.txt"
      ],
      "execution_count": null,
      "outputs": []
    },
    {
      "cell_type": "markdown",
      "metadata": {
        "id": "di3TGvYfRbD6"
      },
      "source": [
        "Pour préparer un ensemble de données pour la classification binaire, vous aurez besoin de deux dossiers sur le disque, correspondant à class_a et class_b . Ce seront les critiques de films positives et négatives, qui peuvent être trouvées dans aclImdb/train/pos et aclImdb/train/neg . Comme l'ensemble de données IMDB contient des dossiers supplémentaires, vous les supprimerez avant d'utiliser cet utilitaire."
      ]
    },
    {
      "cell_type": "code",
      "metadata": {
        "id": "SvfFWbCqRFLh"
      },
      "source": [
        "remove_dir = os.path.join(train_dir, 'unsup')\r\n",
        "shutil.rmtree(remove_dir)"
      ],
      "execution_count": 8,
      "outputs": []
    },
    {
      "cell_type": "markdown",
      "metadata": {
        "id": "sOAmfqhbR7j5"
      },
      "source": [
        "Ensuite, vous utiliserez l'utilitaire text_dataset_from_directory pour créer untf.data.Dataset étiqueté. tf.data est une puissante collection d'outils pour travailler avec des données.\r\n",
        "\r\n",
        "Lors de l'exécution d'une expérience d'apprentissage automatique, il est recommandé de diviser votre ensemble de données en trois divisions: entraînement , validation et test .\r\n",
        "\r\n",
        "L'ensemble de données IMDB a déjà été divisé en train et test, mais il manque un ensemble de validation. Créons un ensemble de validation en utilisant une division 80:20 des données d'entraînement en utilisant l'argument validation_split ci-dessous."
      ]
    },
    {
      "cell_type": "code",
      "metadata": {
        "colab": {
          "base_uri": "https://localhost:8080/"
        },
        "id": "QGrOvtWaR31y",
        "outputId": "d1cd845b-fa48-424f-b15a-fa7763e40df9"
      },
      "source": [
        "batch_size = 32\r\n",
        "seed = 42\r\n",
        "\r\n",
        "raw_train_ds = tf.keras.preprocessing.text_dataset_from_directory(\r\n",
        "    'aclImdb/train', \r\n",
        "    batch_size=batch_size, \r\n",
        "    validation_split=0.2, \r\n",
        "    subset='training', \r\n",
        "    seed=seed)"
      ],
      "execution_count": 9,
      "outputs": [
        {
          "output_type": "stream",
          "text": [
            "Found 25000 files belonging to 2 classes.\n",
            "Using 20000 files for training.\n"
          ],
          "name": "stdout"
        }
      ]
    },
    {
      "cell_type": "markdown",
      "metadata": {
        "id": "UUJfw3KmSK5x"
      },
      "source": [
        "Comme vous pouvez le voir ci-dessus, il y a 25 000 exemples dans le dossier de formation, dont vous utiliserez 80% (ou 20 000) pour la formation. Comme vous le verrez dans un instant, vous pouvez entraîner un modèle en passant un jeu de données directement à **model.fit** . Si vous **tf.data** avec **tf.data** , vous pouvez également parcourir l'ensemble de données et imprimer quelques exemples comme suit."
      ]
    },
    {
      "cell_type": "code",
      "metadata": {
        "colab": {
          "base_uri": "https://localhost:8080/"
        },
        "id": "lHeBqZhGSQ7G",
        "outputId": "30394008-1ec1-417b-c424-68f4ac13d2e0"
      },
      "source": [
        "for text_batch, label_batch in raw_train_ds.take(1):\r\n",
        "  for i in range(3):\r\n",
        "    print(\"Review\", text_batch.numpy()[i])\r\n",
        "    print(\"Label\", label_batch.numpy()[i])"
      ],
      "execution_count": 10,
      "outputs": [
        {
          "output_type": "stream",
          "text": [
            "Review b'\"Pandemonium\" is a horror movie spoof that comes off more stupid than funny. Believe me when I tell you, I love comedies. Especially comedy spoofs. \"Airplane\", \"The Naked Gun\" trilogy, \"Blazing Saddles\", \"High Anxiety\", and \"Spaceballs\" are some of my favorite comedies that spoof a particular genre. \"Pandemonium\" is not up there with those films. Most of the scenes in this movie had me sitting there in stunned silence because the movie wasn\\'t all that funny. There are a few laughs in the film, but when you watch a comedy, you expect to laugh a lot more than a few times and that\\'s all this film has going for it. Geez, \"Scream\" had more laughs than this film and that was more of a horror film. How bizarre is that?<br /><br />*1/2 (out of four)'\n",
            "Label 0\n",
            "Review b\"David Mamet is a very interesting and a very un-equal director. His first movie 'House of Games' was the one I liked best, and it set a series of films with characters whose perspective of life changes as they get into complicated situations, and so does the perspective of the viewer.<br /><br />So is 'Homicide' which from the title tries to set the mind of the viewer to the usual crime drama. The principal characters are two cops, one Jewish and one Irish who deal with a racially charged area. The murder of an old Jewish shop owner who proves to be an ancient veteran of the Israeli Independence war triggers the Jewish identity in the mind and heart of the Jewish detective.<br /><br />This is were the flaws of the film are the more obvious. The process of awakening is theatrical and hard to believe, the group of Jewish militants is operatic, and the way the detective eventually walks to the final violent confrontation is pathetic. The end of the film itself is Mamet-like smart, but disappoints from a human emotional perspective.<br /><br />Joe Mantegna and William Macy give strong performances, but the flaws of the story are too evident to be easily compensated.\"\n",
            "Label 0\n",
            "Review b'Great documentary about the lives of NY firefighters during the worst terrorist attack of all time.. That reason alone is why this should be a must see collectors item.. What shocked me was not only the attacks, but the\"High Fat Diet\" and physical appearance of some of these firefighters. I think a lot of Doctors would agree with me that,in the physical shape they were in, some of these firefighters would NOT of made it to the 79th floor carrying over 60 lbs of gear. Having said that i now have a greater respect for firefighters and i realize becoming a firefighter is a life altering job. The French have a history of making great documentary\\'s and that is what this is, a Great Documentary.....'\n",
            "Label 1\n"
          ],
          "name": "stdout"
        }
      ]
    },
    {
      "cell_type": "markdown",
      "metadata": {
        "id": "wRD4inGjSkuR"
      },
      "source": [
        "Notez que les critiques contiennent du texte brut (avec ponctuation et balises HTML occasionnelles comme <br/> ). Vous montrerez comment les gérer dans la section suivante.\r\n",
        "\r\n",
        "Les libellés sont 0 ou 1. Pour voir lesquels correspondent aux critiques de films positives et négatives, vous pouvez vérifier la propriété class_names sur l'ensemble de données."
      ]
    },
    {
      "cell_type": "code",
      "metadata": {
        "colab": {
          "base_uri": "https://localhost:8080/"
        },
        "id": "76L5gMSGSlnH",
        "outputId": "aed5c180-89b1-4d7d-a265-511aa97f4311"
      },
      "source": [
        "print(\"Label 0 corresponds to\", raw_train_ds.class_names[0])\r\n",
        "print(\"Label 1 corresponds to\", raw_train_ds.class_names[1])"
      ],
      "execution_count": 11,
      "outputs": [
        {
          "output_type": "stream",
          "text": [
            "Label 0 corresponds to neg\n",
            "Label 1 corresponds to pos\n"
          ],
          "name": "stdout"
        }
      ]
    },
    {
      "cell_type": "markdown",
      "metadata": {
        "id": "Skm9OT3ESsau"
      },
      "source": [
        "Ensuite, vous allez créer un ensemble de données de validation et de test. Vous utiliserez les 5 000 avis restants de l'ensemble de formation pour la validation"
      ]
    },
    {
      "cell_type": "code",
      "metadata": {
        "colab": {
          "base_uri": "https://localhost:8080/"
        },
        "id": "tsO3lvg_St8Q",
        "outputId": "e4983d05-8245-4d68-c59a-17fa5b51d588"
      },
      "source": [
        "raw_val_ds = tf.keras.preprocessing.text_dataset_from_directory(\r\n",
        "    'aclImdb/train', \r\n",
        "    batch_size=batch_size, \r\n",
        "    validation_split=0.2, \r\n",
        "    subset='validation', \r\n",
        "    seed=seed)"
      ],
      "execution_count": 12,
      "outputs": [
        {
          "output_type": "stream",
          "text": [
            "Found 25000 files belonging to 2 classes.\n",
            "Using 5000 files for validation.\n"
          ],
          "name": "stdout"
        }
      ]
    },
    {
      "cell_type": "markdown",
      "metadata": {
        "id": "EiCHxk8jUrcZ"
      },
      "source": [
        "Remarque: lorsque vous utilisez les arguments validation_split et subset , assurez-vous de spécifier une valeur de départ aléatoire ou de transmettre shuffle=False , afin que les fractionnements de validation et d'apprentissage ne se chevauchent pas."
      ]
    },
    {
      "cell_type": "code",
      "metadata": {
        "colab": {
          "base_uri": "https://localhost:8080/"
        },
        "id": "ALsdAc6bTHL2",
        "outputId": "d1243883-082e-4b75-8332-87517c2373b8"
      },
      "source": [
        "raw_val_ds = tf.keras.preprocessing.text_dataset_from_directory(\r\n",
        "    'aclImdb/train', \r\n",
        "    batch_size=batch_size, \r\n",
        "    validation_split=0.2, \r\n",
        "    subset='validation', \r\n",
        "    seed=seed)"
      ],
      "execution_count": 13,
      "outputs": [
        {
          "output_type": "stream",
          "text": [
            "Found 25000 files belonging to 2 classes.\n",
            "Using 5000 files for validation.\n"
          ],
          "name": "stdout"
        }
      ]
    },
    {
      "cell_type": "code",
      "metadata": {
        "colab": {
          "base_uri": "https://localhost:8080/"
        },
        "id": "E6vV4emUVL1R",
        "outputId": "7526afa1-a6b7-4bf1-e0be-770828b44790"
      },
      "source": [
        "raw_test_ds = tf.keras.preprocessing.text_dataset_from_directory(\r\n",
        "    'aclImdb/test', \r\n",
        "    batch_size=batch_size)"
      ],
      "execution_count": 14,
      "outputs": [
        {
          "output_type": "stream",
          "text": [
            "Found 25000 files belonging to 2 classes.\n"
          ],
          "name": "stdout"
        }
      ]
    },
    {
      "cell_type": "markdown",
      "metadata": {
        "id": "ZrundxWvVRfz"
      },
      "source": [
        "**Remarque: les API de prétraitement utilisées dans la section suivante sont expérimentales dans TensorFlow 2.3 et sujettes à modification.**"
      ]
    },
    {
      "cell_type": "markdown",
      "metadata": {
        "id": "IMWFfUIIV-Q_"
      },
      "source": [
        "Préparez l'ensemble de données pour la formation\r\n",
        "Ensuite, vous allez standardiser, tokeniser et vectoriser les données à l'aide de la couche de **preprocessing.TextVectorization** traitement.TextVectorization utile.\r\n",
        "\r\n",
        "La normalisation fait référence au prétraitement du texte, généralement pour supprimer la ponctuation ou les éléments HTML pour simplifier l'ensemble de données. La tokenisation fait référence à la division de chaînes en jetons (par exemple, la division d'une phrase en mots individuels, par division sur un espace). La vectorisation fait référence à la conversion de jetons en nombres afin qu'ils puissent être introduits dans un réseau neuronal. Toutes ces tâches peuvent être accomplies avec cette couche.\r\n",
        "\r\n",
        "Comme vous l'avez vu ci-dessus, les critiques contiennent diverses balises HTML telles que <br /> . Ces balises ne seront pas supprimées par le standardiseur par défaut dans la couche **TextVectorization** (qui convertit le texte en minuscules et supprime la ponctuation par défaut, mais ne supprime pas le HTML). Vous allez écrire une fonction de standardisation personnalisée pour supprimer le HTML."
      ]
    },
    {
      "cell_type": "markdown",
      "metadata": {
        "id": "-9PT76gAVlw1"
      },
      "source": [
        "**Remarque: pour éviter le biais train / test (également appelé biais train / service), il est important de prétraiter les données de manière identique au moment du train et du test. Pour faciliter cela, la couche TextVectorization peut être incluse directement dans votre modèle, comme indiqué plus loin dans ce didacticiel.**"
      ]
    },
    {
      "cell_type": "code",
      "metadata": {
        "id": "julQ3SWJWQN7"
      },
      "source": [
        "def custom_standardization(input_data):\r\n",
        "  lowercase = tf.strings.lower(input_data)\r\n",
        "  stripped_html = tf.strings.regex_replace(lowercase, '<br />', ' ')\r\n",
        "  return tf.strings.regex_replace(stripped_html,\r\n",
        "                                  '[%s]' % re.escape(string.punctuation),\r\n",
        "                                  '')"
      ],
      "execution_count": 15,
      "outputs": []
    },
    {
      "cell_type": "markdown",
      "metadata": {
        "id": "9AqOcl1BWa26"
      },
      "source": [
        "Ensuite, vous allez créer un calque TextVectorization . vous utiliserez cette couche pour standardiser, tokeniser et vectoriser nos données. Vous définissez output_mode sur int pour créer des indices d'entiers uniques pour chaque jeton.\r\n",
        "\r\n",
        "Notez que vous utilisez la fonction de fractionnement par défaut et la fonction de standardisation personnalisée que vous avez définie ci-dessus. Vous aurez également définir des constantes pour le modèle, comme un maximum de explicite sequence_length , ce qui entraînera la couche à des séquences de pad ou tronquer exactement sequence_length valeurs."
      ]
    },
    {
      "cell_type": "code",
      "metadata": {
        "id": "vIcmu8IsWb89"
      },
      "source": [
        "max_features = 10000\r\n",
        "sequence_length = 250\r\n",
        "\r\n",
        "vectorize_layer = TextVectorization(\r\n",
        "    standardize=custom_standardization,\r\n",
        "    max_tokens=max_features,\r\n",
        "    output_mode='int',\r\n",
        "    output_sequence_length=sequence_length)"
      ],
      "execution_count": 16,
      "outputs": []
    },
    {
      "cell_type": "markdown",
      "metadata": {
        "id": "EetUJ-5PWfF4"
      },
      "source": [
        "Ensuite, vous appellerez adapt pour adapter l'état de la couche de prétraitement à l'ensemble de données. Cela obligera le modèle à créer un index de chaînes vers des entiers."
      ]
    },
    {
      "cell_type": "markdown",
      "metadata": {
        "id": "0ZaXgCnCWnY-"
      },
      "source": [
        "**Remarque: il est important de n'utiliser vos données d'entraînement que lors de l'appel d'adapt (l'utilisation de l'ensemble de test entraînerait une fuite d'informations).**"
      ]
    },
    {
      "cell_type": "code",
      "metadata": {
        "id": "fXuusiRVWsjc"
      },
      "source": [
        "# Make a text-only dataset (without labels), then call adapt\r\n",
        "train_text = raw_train_ds.map(lambda x, y: x)\r\n",
        "vectorize_layer.adapt(train_text)"
      ],
      "execution_count": 17,
      "outputs": []
    },
    {
      "cell_type": "markdown",
      "metadata": {
        "id": "S6NDn6neW1gT"
      },
      "source": [
        "Créons une fonction pour voir le résultat de l'utilisation de cette couche pour prétraiter certaines données."
      ]
    },
    {
      "cell_type": "code",
      "metadata": {
        "id": "GQJKk96rW2Z8"
      },
      "source": [
        "def vectorize_text(text, label):\r\n",
        "  text = tf.expand_dims(text, -1)\r\n",
        "  return vectorize_layer(text), label"
      ],
      "execution_count": 18,
      "outputs": []
    },
    {
      "cell_type": "code",
      "metadata": {
        "colab": {
          "base_uri": "https://localhost:8080/"
        },
        "id": "IwBbaHGPW5oo",
        "outputId": "1d95fdb3-60cc-454f-b5dd-357835e027d0"
      },
      "source": [
        "# retrieve a batch (of 32 reviews and labels) from the dataset\r\n",
        "text_batch, label_batch = next(iter(raw_train_ds))\r\n",
        "first_review, first_label = text_batch[0], label_batch[0]\r\n",
        "print(\"Review\", first_review)\r\n",
        "print(\"Label\", raw_train_ds.class_names[first_label])\r\n",
        "print(\"Vectorized review\", vectorize_text(first_review, first_label))"
      ],
      "execution_count": 19,
      "outputs": [
        {
          "output_type": "stream",
          "text": [
            "Review tf.Tensor(b'Silent Night, Deadly Night 5 is the very last of the series, and like part 4, it\\'s unrelated to the first three except by title and the fact that it\\'s a Christmas-themed horror flick.<br /><br />Except to the oblivious, there\\'s some obvious things going on here...Mickey Rooney plays a toymaker named Joe Petto and his creepy son\\'s name is Pino. Ring a bell, anyone? Now, a little boy named Derek heard a knock at the door one evening, and opened it to find a present on the doorstep for him. Even though it said \"don\\'t open till Christmas\", he begins to open it anyway but is stopped by his dad, who scolds him and sends him to bed, and opens the gift himself. Inside is a little red ball that sprouts Santa arms and a head, and proceeds to kill dad. Oops, maybe he should have left well-enough alone. Of course Derek is then traumatized by the incident since he watched it from the stairs, but he doesn\\'t grow up to be some killer Santa, he just stops talking.<br /><br />There\\'s a mysterious stranger lurking around, who seems very interested in the toys that Joe Petto makes. We even see him buying a bunch when Derek\\'s mom takes him to the store to find a gift for him to bring him out of his trauma. And what exactly is this guy doing? Well, we\\'re not sure but he does seem to be taking these toys apart to see what makes them tick. He does keep his landlord from evicting him by promising him to pay him in cash the next day and presents him with a \"Larry the Larvae\" toy for his kid, but of course \"Larry\" is not a good toy and gets out of the box in the car and of course, well, things aren\\'t pretty.<br /><br />Anyway, eventually what\\'s going on with Joe Petto and Pino is of course revealed, and as with the old story, Pino is not a \"real boy\". Pino is probably even more agitated and naughty because he suffers from \"Kenitalia\" (a smooth plastic crotch) so that could account for his evil ways. And the identity of the lurking stranger is revealed too, and there\\'s even kind of a happy ending of sorts. Whee.<br /><br />A step up from part 4, but not much of one. Again, Brian Yuzna is involved, and Screaming Mad George, so some decent special effects, but not enough to make this great. A few leftovers from part 4 are hanging around too, like Clint Howard and Neith Hunter, but that doesn\\'t really make any difference. Anyway, I now have seeing the whole series out of my system. Now if I could get some of it out of my brain. 4 out of 5.', shape=(), dtype=string)\n",
            "Label neg\n",
            "Vectorized review (<tf.Tensor: shape=(1, 250), dtype=int64, numpy=\n",
            "array([[1287,  313, 2380,  313,  661,    7,    2,   52,  229,    5,    2,\n",
            "         200,    3,   38,  170,  669,   29, 5492,    6,    2,   83,  297,\n",
            "         549,   32,  410,    3,    2,  186,   12,   29,    4,    1,  191,\n",
            "         510,  549,    6,    2, 8229,  212,   46,  576,  175,  168,   20,\n",
            "           1, 5361,  290,    4,    1,  761,  969,    1,    3,   24,  935,\n",
            "        2271,  393,    7,    1, 1675,    4, 3747,  250,  148,    4,  112,\n",
            "         436,  761, 3529,  548,    4, 3633,   31,    2, 1331,   28, 2096,\n",
            "           3, 2912,    9,    6,  163,    4, 1006,   20,    2,    1,   15,\n",
            "          85,   53,  147,    9,  292,   89,  959, 2314,  984,   27,  762,\n",
            "           6,  959,    9,  564,   18,    7, 2140,   32,   24, 1254,   36,\n",
            "           1,   85,    3, 3298,   85,    6, 1410,    3, 1936,    2, 3408,\n",
            "         301,  965,    7,    4,  112,  740, 1977,   12,    1, 2014, 2772,\n",
            "           3,    4,  428,    3, 5177,    6,  512, 1254,    1,  278,   27,\n",
            "         139,   25,  308,    1,  579,    5,  259, 3529,    7,   92, 8981,\n",
            "          32,    2, 3842,  230,   27,  289,    9,   35,    2, 5712,   18,\n",
            "          27,  144, 2166,   56,    6,   26,   46,  466, 2014,   27,   40,\n",
            "        2745,  657,  212,    4, 1376, 3002, 7080,  183,   36,  180,   52,\n",
            "         920,    8,    2, 4028,   12,  969,    1,  158,   71,   53,   67,\n",
            "          85, 2754,    4,  734,   51,    1, 1611,  294,   85,    6,    2,\n",
            "        1164,    6,  163,    4, 3408,   15,   85,    6,  717,   85,   44,\n",
            "           5,   24, 7158,    3,   48,  604,    7,   11,  225,  384,   73,\n",
            "          65,   21,  242,   18,   27,  120,  295,    6,   26,  667,  129,\n",
            "        4028,  948,    6,   67,   48,  158,   93,    1]])>, <tf.Tensor: shape=(), dtype=int32, numpy=0>)\n"
          ],
          "name": "stdout"
        }
      ]
    },
    {
      "cell_type": "markdown",
      "metadata": {
        "id": "HBLVp4tlXDGg"
      },
      "source": [
        "Comme vous pouvez le voir ci-dessus, chaque jeton a été remplacé par un entier. Vous pouvez rechercher le jeton (chaîne) auquel correspond chaque entier en appelant .get_vocabulary() sur la couche."
      ]
    },
    {
      "cell_type": "code",
      "metadata": {
        "colab": {
          "base_uri": "https://localhost:8080/"
        },
        "id": "vwSTrSsGXEQy",
        "outputId": "5a39a50a-d12b-41f7-c1e8-50cbb970d71a"
      },
      "source": [
        "print(\"1287 ---> \",vectorize_layer.get_vocabulary()[1287])\r\n",
        "print(\" 313 ---> \",vectorize_layer.get_vocabulary()[313])\r\n",
        "print('Vocabulary size: {}'.format(len(vectorize_layer.get_vocabulary())))"
      ],
      "execution_count": 20,
      "outputs": [
        {
          "output_type": "stream",
          "text": [
            "1287 --->  silent\n",
            " 313 --->  night\n",
            "Vocabulary size: 10000\n"
          ],
          "name": "stdout"
        }
      ]
    },
    {
      "cell_type": "markdown",
      "metadata": {
        "id": "d7kje5GAXJ_s"
      },
      "source": [
        "Vous êtes presque prêt à entraîner votre modèle. Lors de la dernière étape de prétraitement, vous appliquerez la couche TextVectorization que vous avez créée précédemment à l'ensemble de données de train, de validation et de test"
      ]
    },
    {
      "cell_type": "code",
      "metadata": {
        "id": "UjKwEQIbXLAh"
      },
      "source": [
        "train_ds = raw_train_ds.map(vectorize_text)\r\n",
        "val_ds = raw_val_ds.map(vectorize_text)\r\n",
        "test_ds = raw_test_ds.map(vectorize_text)"
      ],
      "execution_count": 22,
      "outputs": []
    },
    {
      "cell_type": "markdown",
      "metadata": {
        "id": "aYfwkQExXew8"
      },
      "source": [
        "Configurer l'ensemble de données pour les performances\r\n",
        "Ce sont deux méthodes importantes que vous devez utiliser lors du chargement de données pour vous assurer que les E / S ne deviennent pas bloquantes.\r\n",
        "\r\n",
        ".cache() garde les données en mémoire après leur chargement hors du disque. Cela garantira que l'ensemble de données ne deviendra pas un goulot d'étranglement lors de l'entraînement de votre modèle. Si votre ensemble de données est trop volumineux pour tenir dans la mémoire, vous pouvez également utiliser cette méthode pour créer un cache sur disque performant, qui est plus efficace à lire que de nombreux petits fichiers.\r\n",
        "\r\n",
        ".prefetch() chevauche le prétraitement des données et l'exécution du modèle pendant l'entraînement.\r\n",
        "\r\n",
        "Vous pouvez en savoir plus sur les deux méthodes, ainsi que sur la mise en cache des données sur le disque dans le guide des performances des données ."
      ]
    },
    {
      "cell_type": "code",
      "metadata": {
        "id": "G3E_YPV1XkTn"
      },
      "source": [
        "AUTOTUNE = tf.data.AUTOTUNE\r\n",
        "\r\n",
        "train_ds = train_ds.cache().prefetch(buffer_size=AUTOTUNE)\r\n",
        "val_ds = val_ds.cache().prefetch(buffer_size=AUTOTUNE)\r\n",
        "test_ds = test_ds.cache().prefetch(buffer_size=AUTOTUNE)"
      ],
      "execution_count": 23,
      "outputs": []
    },
    {
      "cell_type": "markdown",
      "metadata": {
        "id": "uuOXjfkkX4RS"
      },
      "source": [
        "Créer le modèle\r\n",
        "\r\n",
        "Il est temps de créer notre réseau de neurones:"
      ]
    },
    {
      "cell_type": "code",
      "metadata": {
        "id": "cjN1jsSLX6B4"
      },
      "source": [
        "embedding_dim = 16"
      ],
      "execution_count": 24,
      "outputs": []
    },
    {
      "cell_type": "code",
      "metadata": {
        "colab": {
          "base_uri": "https://localhost:8080/"
        },
        "id": "VyASTshwg0gh",
        "outputId": "ac426207-6748-4eb5-cbc7-7098b78d2dba"
      },
      "source": [
        "model = tf.keras.Sequential([\r\n",
        "  layers.Embedding(max_features + 1, embedding_dim),\r\n",
        "  layers.Dropout(0.2),\r\n",
        "  layers.GlobalAveragePooling1D(),\r\n",
        "  layers.Dropout(0.2),\r\n",
        "  layers.Dense(1)])\r\n",
        "\r\n",
        "model.summary()"
      ],
      "execution_count": 25,
      "outputs": [
        {
          "output_type": "stream",
          "text": [
            "Model: \"sequential\"\n",
            "_________________________________________________________________\n",
            "Layer (type)                 Output Shape              Param #   \n",
            "=================================================================\n",
            "embedding (Embedding)        (None, None, 16)          160016    \n",
            "_________________________________________________________________\n",
            "dropout (Dropout)            (None, None, 16)          0         \n",
            "_________________________________________________________________\n",
            "global_average_pooling1d (Gl (None, 16)                0         \n",
            "_________________________________________________________________\n",
            "dropout_1 (Dropout)          (None, 16)                0         \n",
            "_________________________________________________________________\n",
            "dense (Dense)                (None, 1)                 17        \n",
            "=================================================================\n",
            "Total params: 160,033\n",
            "Trainable params: 160,033\n",
            "Non-trainable params: 0\n",
            "_________________________________________________________________\n"
          ],
          "name": "stdout"
        }
      ]
    },
    {
      "cell_type": "markdown",
      "metadata": {
        "id": "w1KaJPqXjUY1"
      },
      "source": [
        "Les couches sont empilées séquentiellement pour construire le classificateur:\r\n",
        "\r\n",
        "La première couche est une couche d' Embedding . Cette couche prend les révisions encodées en nombre entier et recherche un vecteur d'incorporation pour chaque index de mot. Ces vecteurs sont appris au fur et à mesure des trains modèles. Les vecteurs ajoutent une dimension au tableau de sortie. Les dimensions résultantes sont: (batch, sequence, embedding) . Pour en savoir plus sur les incorporations, consultez le didacticiel sur l'intégration de mots .\r\n",
        "Ensuite, une couche GlobalAveragePooling1D renvoie un vecteur de sortie de longueur fixe pour chaque exemple en calculant la moyenne sur la dimension de séquence. Cela permet au modèle de gérer des entrées de longueur variable, de la manière la plus simple possible.\r\n",
        "Ce vecteur de sortie de longueur fixe est acheminé via une couche entièrement connectée ( Dense ) avec 16 unités cachées.\r\n",
        "La dernière couche est étroitement connectée avec un seul nœud de sortie."
      ]
    },
    {
      "cell_type": "markdown",
      "metadata": {
        "id": "d2kWCjAmjkwZ"
      },
      "source": [
        "Fonction de perte et optimiseur\r\n",
        "Un modèle a besoin d'une fonction de perte et d'un optimiseur pour l'entraînement. Puisqu'il s'agit d'un problème de classification binaire et que le modèle génère une probabilité (une couche à une seule unité avec une activation sigmoïde), vous utiliserez losses.BinaryCrossentropy perte de losses.BinaryCrossentropy .\r\n",
        "\r\n",
        "Maintenant, configurez le modèle pour utiliser un optimiseur et une fonction de perte:"
      ]
    },
    {
      "cell_type": "code",
      "metadata": {
        "id": "FgU__99vjmf1"
      },
      "source": [
        "model.compile(loss=losses.BinaryCrossentropy(from_logits=True),\r\n",
        "              optimizer='adam',\r\n",
        "              metrics=tf.metrics.BinaryAccuracy(threshold=0.0))"
      ],
      "execution_count": 26,
      "outputs": []
    },
    {
      "cell_type": "markdown",
      "metadata": {
        "id": "2btJcs3Zjvol"
      },
      "source": [
        "**Former le modèle**\r\n",
        "\r\n",
        "Vous allez entraîner le modèle en passant l'objet du dataset à la méthode fit."
      ]
    },
    {
      "cell_type": "code",
      "metadata": {
        "colab": {
          "base_uri": "https://localhost:8080/"
        },
        "id": "THqUieyIj27m",
        "outputId": "a97f1124-9078-4e83-cce8-159dc6adabfa"
      },
      "source": [
        "epochs = 10\r\n",
        "history = model.fit(\r\n",
        "    train_ds,\r\n",
        "    validation_data=val_ds,\r\n",
        "    epochs=epochs)"
      ],
      "execution_count": 27,
      "outputs": [
        {
          "output_type": "stream",
          "text": [
            "Epoch 1/10\n",
            "625/625 [==============================] - 13s 19ms/step - loss: 0.6820 - binary_accuracy: 0.6175 - val_loss: 0.6145 - val_binary_accuracy: 0.7728\n",
            "Epoch 2/10\n",
            "625/625 [==============================] - 4s 7ms/step - loss: 0.5797 - binary_accuracy: 0.7844 - val_loss: 0.4986 - val_binary_accuracy: 0.8230\n",
            "Epoch 3/10\n",
            "625/625 [==============================] - 4s 7ms/step - loss: 0.4662 - binary_accuracy: 0.8356 - val_loss: 0.4201 - val_binary_accuracy: 0.8484\n",
            "Epoch 4/10\n",
            "625/625 [==============================] - 4s 7ms/step - loss: 0.3916 - binary_accuracy: 0.8611 - val_loss: 0.3737 - val_binary_accuracy: 0.8614\n",
            "Epoch 5/10\n",
            "625/625 [==============================] - 4s 7ms/step - loss: 0.3448 - binary_accuracy: 0.8770 - val_loss: 0.3449 - val_binary_accuracy: 0.8682\n",
            "Epoch 6/10\n",
            "625/625 [==============================] - 4s 7ms/step - loss: 0.3113 - binary_accuracy: 0.8841 - val_loss: 0.3257 - val_binary_accuracy: 0.8724\n",
            "Epoch 7/10\n",
            "625/625 [==============================] - 4s 7ms/step - loss: 0.2858 - binary_accuracy: 0.8963 - val_loss: 0.3125 - val_binary_accuracy: 0.8740\n",
            "Epoch 8/10\n",
            "625/625 [==============================] - 4s 7ms/step - loss: 0.2653 - binary_accuracy: 0.9031 - val_loss: 0.3031 - val_binary_accuracy: 0.8758\n",
            "Epoch 9/10\n",
            "625/625 [==============================] - 4s 7ms/step - loss: 0.2483 - binary_accuracy: 0.9096 - val_loss: 0.2964 - val_binary_accuracy: 0.8774\n",
            "Epoch 10/10\n",
            "625/625 [==============================] - 4s 7ms/step - loss: 0.2352 - binary_accuracy: 0.9156 - val_loss: 0.2916 - val_binary_accuracy: 0.8794\n"
          ],
          "name": "stdout"
        }
      ]
    },
    {
      "cell_type": "markdown",
      "metadata": {
        "id": "kzt6r7qgkGTJ"
      },
      "source": [
        "**Évaluer le modèle**\r\n",
        "\r\n",
        "Voyons comment le modèle fonctionne. Deux valeurs seront renvoyées. Perte (un nombre qui représente notre erreur, les valeurs inférieures sont meilleures) et précision."
      ]
    },
    {
      "cell_type": "code",
      "metadata": {
        "colab": {
          "base_uri": "https://localhost:8080/"
        },
        "id": "zaIMQ3HgjxiC",
        "outputId": "1e3386d5-534f-48db-c06c-274b27a8b9f2"
      },
      "source": [
        "loss, accuracy = model.evaluate(test_ds)\r\n",
        "\r\n",
        "print(\"Loss: \", loss)\r\n",
        "print(\"Accuracy: \", accuracy)"
      ],
      "execution_count": 28,
      "outputs": [
        {
          "output_type": "stream",
          "text": [
            "782/782 [==============================] - 11s 14ms/step - loss: 0.3103 - binary_accuracy: 0.8735\n",
            "Loss:  0.31025710701942444\n",
            "Accuracy:  0.8734800219535828\n"
          ],
          "name": "stdout"
        }
      ]
    },
    {
      "cell_type": "markdown",
      "metadata": {
        "id": "xsoRIeSskT2O"
      },
      "source": [
        "Cette approche assez naïve atteint une précision d'environ 86%.\r\n",
        "\r\n",
        "Créez un graphique de la précision et de la perte au fil du temps\r\n",
        "\r\n",
        "model.fit() retourne un objet History qui contient un dictionnaire avec tout ce qui s'est passé pendant l'entraînement:"
      ]
    },
    {
      "cell_type": "code",
      "metadata": {
        "colab": {
          "base_uri": "https://localhost:8080/"
        },
        "id": "4akNucnCkYdh",
        "outputId": "9044e19c-605d-4bfb-8f87-c8d625447206"
      },
      "source": [
        "history_dict = history.history\r\n",
        "history_dict.keys()"
      ],
      "execution_count": 29,
      "outputs": [
        {
          "output_type": "execute_result",
          "data": {
            "text/plain": [
              "dict_keys(['loss', 'binary_accuracy', 'val_loss', 'val_binary_accuracy'])"
            ]
          },
          "metadata": {
            "tags": []
          },
          "execution_count": 29
        }
      ]
    },
    {
      "cell_type": "markdown",
      "metadata": {
        "id": "3KT7twbjkkkX"
      },
      "source": [
        "Il y a quatre entrées: une pour chaque métrique surveillée pendant la formation et la validation. Vous pouvez les utiliser pour tracer la perte de formation et de validation à des fins de comparaison, ainsi que la précision de la formation et de la validation:"
      ]
    },
    {
      "cell_type": "code",
      "metadata": {
        "colab": {
          "base_uri": "https://localhost:8080/",
          "height": 295
        },
        "id": "knyFKvNokmF9",
        "outputId": "18570d61-31bb-473b-f5ba-c1d777fdd1c6"
      },
      "source": [
        "acc = history_dict['binary_accuracy']\r\n",
        "val_acc = history_dict['val_binary_accuracy']\r\n",
        "loss = history_dict['loss']\r\n",
        "val_loss = history_dict['val_loss']\r\n",
        "\r\n",
        "epochs = range(1, len(acc) + 1)\r\n",
        "\r\n",
        "# \"bo\" is for \"blue dot\"\r\n",
        "plt.plot(epochs, loss, 'bo', label='Training loss')\r\n",
        "# b is for \"solid blue line\"\r\n",
        "plt.plot(epochs, val_loss, 'b', label='Validation loss')\r\n",
        "plt.title('Training and validation loss')\r\n",
        "plt.xlabel('Epochs')\r\n",
        "plt.ylabel('Loss')\r\n",
        "plt.legend()\r\n",
        "\r\n",
        "plt.show()"
      ],
      "execution_count": 30,
      "outputs": [
        {
          "output_type": "display_data",
          "data": {
            "image/png": "[encoded data removed]",
            "text/plain": [
              "<Figure size 432x288 with 1 Axes>"
            ]
          },
          "metadata": {
            "tags": [],
            "needs_background": "light"
          }
        }
      ]
    },
    {
      "cell_type": "code",
      "metadata": {
        "colab": {
          "base_uri": "https://localhost:8080/",
          "height": 295
        },
        "id": "nUcAR2O1kubr",
        "outputId": "cf787fa4-6ce7-499d-a34b-09c410c17801"
      },
      "source": [
        "plt.plot(epochs, acc, 'bo', label='Training acc')\r\n",
        "plt.plot(epochs, val_acc, 'b', label='Validation acc')\r\n",
        "plt.title('Training and validation accuracy')\r\n",
        "plt.xlabel('Epochs')\r\n",
        "plt.ylabel('Accuracy')\r\n",
        "plt.legend(loc='lower right')\r\n",
        "\r\n",
        "plt.show()"
      ],
      "execution_count": 31,
      "outputs": [
        {
          "output_type": "display_data",
          "data": {
            "image/png": "[encoded data removed]",
            "text/plain": [
              "<Figure size 432x288 with 1 Axes>"
            ]
          },
          "metadata": {
            "tags": [],
            "needs_background": "light"
          }
        }
      ]
    },
    {
      "cell_type": "markdown",
      "metadata": {
        "id": "vXypZOq9k1GP"
      },
      "source": [
        "Dans ce graphique, les points représentent la perte et la précision de la formation, et les lignes pleines représentent la perte de validation et la précision.\r\n",
        "\r\n",
        "Notez que la perte de formation diminue à chaque époque et que la précision de la formation augmente à chaque époque. Ceci est attendu lors de l'utilisation d'une optimisation de descente de gradient - cela doit minimiser la quantité souhaitée à chaque itération.\r\n",
        "\r\n",
        "Ce n'est pas le cas pour la perte de validation et la précision: elles semblent culminer avant la précision de la formation. Voici un exemple de surajustement: le modèle fonctionne mieux sur les données d'entraînement que sur des données qu'il n'a jamais vues auparavant. Après ce point, le modèle sur-optimise et apprend des représentations spécifiques aux données d'entraînement qui ne se généralisent pas aux données de test.\r\n",
        "\r\n",
        "Dans ce cas particulier, vous pouvez éviter le surajustement en arrêtant simplement l'entraînement lorsque la précision de validation n'augmente plus. Une façon de le faire est d'utiliser le rappel tf.keras.callbacks.EarlyStopping ."
      ]
    },
    {
      "cell_type": "markdown",
      "metadata": {
        "id": "YE-ZVecNk-nE"
      },
      "source": [
        "**Exporter le modèle**\r\n",
        "\r\n",
        "Dans le code ci-dessus, vous avez appliqué la couche TextVectorization au jeu de données avant d'alimenter le modèle en texte. Si vous souhaitez rendre votre modèle capable de traiter des chaînes brutes (par exemple, pour simplifier son déploiement), vous pouvez inclure la couche TextVectorization dans votre modèle. Pour ce faire, vous pouvez créer un nouveau modèle en utilisant les poids que vous venez de former."
      ]
    },
    {
      "cell_type": "code",
      "metadata": {
        "colab": {
          "base_uri": "https://localhost:8080/"
        },
        "id": "E2cIdLSIlBzD",
        "outputId": "0546da57-81c0-4f08-c51a-034e7c42eae5"
      },
      "source": [
        "export_model = tf.keras.Sequential([\r\n",
        "  vectorize_layer,\r\n",
        "  model,\r\n",
        "  layers.Activation('sigmoid')\r\n",
        "])\r\n",
        "\r\n",
        "export_model.compile(\r\n",
        "    loss=losses.BinaryCrossentropy(from_logits=False), optimizer=\"adam\", metrics=['accuracy']\r\n",
        ")\r\n",
        "\r\n",
        "# Test it with `raw_test_ds`, which yields raw strings\r\n",
        "loss, accuracy = export_model.evaluate(raw_test_ds)\r\n",
        "print(accuracy)"
      ],
      "execution_count": 32,
      "outputs": [
        {
          "output_type": "stream",
          "text": [
            "782/782 [==============================] - 11s 13ms/step - loss: 0.3105 - accuracy: 0.8734\n",
            "0.8734800219535828\n"
          ],
          "name": "stdout"
        }
      ]
    },
    {
      "cell_type": "markdown",
      "metadata": {
        "id": "zVnJWgFJlOl-"
      },
      "source": [
        "Inférence sur de nouvelles données\r\n",
        "Pour obtenir des prédictions pour de nouveaux exemples, vous pouvez simplement appeler model.predict()"
      ]
    },
    {
      "cell_type": "code",
      "metadata": {
        "colab": {
          "base_uri": "https://localhost:8080/"
        },
        "id": "JXrPIgOVlP1I",
        "outputId": "62d8330a-7a15-42f5-948e-39f672382e13"
      },
      "source": [
        "examples = [\r\n",
        "  \"The movie was great!\",\r\n",
        "  \"The movie was okay.\",\r\n",
        "  \"The movie was terrible...\"\r\n",
        "]\r\n",
        "\r\n",
        "export_model.predict(examples)"
      ],
      "execution_count": 33,
      "outputs": [
        {
          "output_type": "execute_result",
          "data": {
            "text/plain": [
              "array([[0.637556  ],\n",
              "       [0.46248072],\n",
              "       [0.38079363]], dtype=float32)"
            ]
          },
          "metadata": {
            "tags": []
          },
          "execution_count": 33
        }
      ]
    },
    {
      "cell_type": "markdown",
      "metadata": {
        "id": "cLs0at7-lS1U"
      },
      "source": [
        "L'inclusion de la logique de prétraitement du texte à l'intérieur de votre modèle vous permet d'exporter un modèle pour la production qui simplifie le déploiement et réduit le potentiel d' inclinaison du train / test .\r\n",
        "\r\n",
        "Il y a une différence de performances à garder à l'esprit lorsque vous choisissez où appliquer votre couche TextVectorization. Son utilisation en dehors de votre modèle vous permet d'effectuer un traitement CPU asynchrone et une mise en mémoire tampon de vos données lors de l'entraînement sur GPU. Donc, si vous entraînez votre modèle sur le GPU, vous voudrez probablement utiliser cette option pour obtenir les meilleures performances lors du développement de votre modèle, puis passer à l'inclusion de la couche TextVectorization dans votre modèle lorsque vous êtes prêt à préparer le déploiement. .\r\n",
        "\r\n",
        "Consultez ce didacticiel pour en savoir plus sur l'enregistrement des modèles."
      ]
    }
  ]
}